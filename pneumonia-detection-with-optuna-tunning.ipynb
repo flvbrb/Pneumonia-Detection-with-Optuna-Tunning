{
 "cells": [
  {
   "cell_type": "code",
   "execution_count": 1,
   "id": "5b63ddc3",
   "metadata": {
    "_cell_guid": "b1076dfc-b9ad-4769-8c92-a6c4dae69d19",
    "_uuid": "8f2839f25d086af736a60e9eeb907d3b93b6e0e5",
    "execution": {
     "iopub.execute_input": "2023-05-26T09:23:46.850056Z",
     "iopub.status.busy": "2023-05-26T09:23:46.849650Z",
     "iopub.status.idle": "2023-05-26T09:25:23.802900Z",
     "shell.execute_reply": "2023-05-26T09:25:23.801669Z"
    },
    "papermill": {
     "duration": 96.964123,
     "end_time": "2023-05-26T09:25:23.805515",
     "exception": false,
     "start_time": "2023-05-26T09:23:46.841392",
     "status": "completed"
    },
    "tags": []
   },
   "outputs": [
    {
     "name": "stdout",
     "output_type": "stream",
     "text": [
      "Collecting numpy==1.21.4\r\n",
      "  Downloading numpy-1.21.4-cp310-cp310-manylinux_2_17_x86_64.manylinux2014_x86_64.whl (15.9 MB)\r\n",
      "\u001b[2K     \u001b[90m━━━━━━━━━━━━━━━━━━━━━━━━━━━━━━━━━━━━━━━━\u001b[0m \u001b[32m15.9/15.9 MB\u001b[0m \u001b[31m46.3 MB/s\u001b[0m eta \u001b[36m0:00:00\u001b[0m\r\n",
      "\u001b[?25hInstalling collected packages: numpy\r\n",
      "  Attempting uninstall: numpy\r\n",
      "    Found existing installation: numpy 1.23.5\r\n",
      "    Uninstalling numpy-1.23.5:\r\n",
      "      Successfully uninstalled numpy-1.23.5\r\n",
      "\u001b[31mERROR: pip's dependency resolver does not currently take into account all the packages that are installed. This behaviour is the source of the following dependency conflicts.\r\n",
      "apache-beam 2.46.0 requires dill<0.3.2,>=0.3.1.1, but you have dill 0.3.6 which is incompatible.\r\n",
      "momepy 0.6.0 requires shapely>=2, but you have shapely 1.8.5.post1 which is incompatible.\r\n",
      "pymc3 3.11.5 requires scipy<1.8.0,>=1.7.3, but you have scipy 1.10.1 which is incompatible.\r\n",
      "tensorflow 2.12.0 requires numpy<1.24,>=1.22, but you have numpy 1.21.4 which is incompatible.\r\n",
      "ydata-profiling 4.1.2 requires scipy<1.10,>=1.4.1, but you have scipy 1.10.1 which is incompatible.\u001b[0m\u001b[31m\r\n",
      "\u001b[0mSuccessfully installed numpy-1.21.4\r\n",
      "\u001b[33mWARNING: Running pip as the 'root' user can result in broken permissions and conflicting behaviour with the system package manager. It is recommended to use a virtual environment instead: https://pip.pypa.io/warnings/venv\u001b[0m\u001b[33m\r\n",
      "\u001b[0mRequirement already satisfied: pandas in /opt/conda/lib/python3.10/site-packages (1.5.3)\r\n",
      "Collecting pandas\r\n",
      "  Downloading pandas-2.0.1-cp310-cp310-manylinux_2_17_x86_64.manylinux2014_x86_64.whl (12.3 MB)\r\n",
      "\u001b[2K     \u001b[90m━━━━━━━━━━━━━━━━━━━━━━━━━━━━━━━━━━━━━━━━\u001b[0m \u001b[32m12.3/12.3 MB\u001b[0m \u001b[31m64.6 MB/s\u001b[0m eta \u001b[36m0:00:00\u001b[0m\r\n",
      "\u001b[?25hRequirement already satisfied: python-dateutil>=2.8.2 in /opt/conda/lib/python3.10/site-packages (from pandas) (2.8.2)\r\n",
      "Requirement already satisfied: pytz>=2020.1 in /opt/conda/lib/python3.10/site-packages (from pandas) (2023.3)\r\n",
      "Collecting tzdata>=2022.1 (from pandas)\r\n",
      "  Downloading tzdata-2023.3-py2.py3-none-any.whl (341 kB)\r\n",
      "\u001b[2K     \u001b[90m━━━━━━━━━━━━━━━━━━━━━━━━━━━━━━━━━━━━━━\u001b[0m \u001b[32m341.8/341.8 kB\u001b[0m \u001b[31m26.7 MB/s\u001b[0m eta \u001b[36m0:00:00\u001b[0m\r\n",
      "\u001b[?25hRequirement already satisfied: numpy>=1.21.0 in /opt/conda/lib/python3.10/site-packages (from pandas) (1.21.4)\r\n",
      "Requirement already satisfied: six>=1.5 in /opt/conda/lib/python3.10/site-packages (from python-dateutil>=2.8.2->pandas) (1.16.0)\r\n",
      "Installing collected packages: tzdata, pandas\r\n",
      "  Attempting uninstall: pandas\r\n",
      "    Found existing installation: pandas 1.5.3\r\n",
      "    Uninstalling pandas-1.5.3:\r\n",
      "      Successfully uninstalled pandas-1.5.3\r\n",
      "\u001b[31mERROR: pip's dependency resolver does not currently take into account all the packages that are installed. This behaviour is the source of the following dependency conflicts.\r\n",
      "beatrix-jupyterlab 2023.58.190319 requires jupyter-server~=1.16, but you have jupyter-server 2.5.0 which is incompatible.\r\n",
      "featuretools 1.26.0 requires pandas<2.0.0,>=1.5.0, but you have pandas 2.0.1 which is incompatible.\r\n",
      "momepy 0.6.0 requires shapely>=2, but you have shapely 1.8.5.post1 which is incompatible.\r\n",
      "pymc3 3.11.5 requires scipy<1.8.0,>=1.7.3, but you have scipy 1.10.1 which is incompatible.\r\n",
      "woodwork 0.23.0 requires pandas<2.0.0,>=1.4.3, but you have pandas 2.0.1 which is incompatible.\r\n",
      "ydata-profiling 4.1.2 requires pandas!=1.4.0,<1.6,>1.1, but you have pandas 2.0.1 which is incompatible.\r\n",
      "ydata-profiling 4.1.2 requires scipy<1.10,>=1.4.1, but you have scipy 1.10.1 which is incompatible.\u001b[0m\u001b[31m\r\n",
      "\u001b[0mSuccessfully installed pandas-2.0.1 tzdata-2023.3\r\n",
      "\u001b[33mWARNING: Running pip as the 'root' user can result in broken permissions and conflicting behaviour with the system package manager. It is recommended to use a virtual environment instead: https://pip.pypa.io/warnings/venv\u001b[0m\u001b[33m\r\n",
      "\u001b[0mRequirement already satisfied: scikit-learn in /opt/conda/lib/python3.10/site-packages (1.2.2)\r\n",
      "Requirement already satisfied: numpy>=1.17.3 in /opt/conda/lib/python3.10/site-packages (from scikit-learn) (1.21.4)\r\n",
      "Requirement already satisfied: scipy>=1.3.2 in /opt/conda/lib/python3.10/site-packages (from scikit-learn) (1.10.1)\r\n",
      "Requirement already satisfied: joblib>=1.1.1 in /opt/conda/lib/python3.10/site-packages (from scikit-learn) (1.2.0)\r\n",
      "Requirement already satisfied: threadpoolctl>=2.0.0 in /opt/conda/lib/python3.10/site-packages (from scikit-learn) (3.1.0)\r\n",
      "\u001b[33mWARNING: Running pip as the 'root' user can result in broken permissions and conflicting behaviour with the system package manager. It is recommended to use a virtual environment instead: https://pip.pypa.io/warnings/venv\u001b[0m\u001b[33m\r\n",
      "\u001b[0mRequirement already satisfied: keras in /opt/conda/lib/python3.10/site-packages (2.12.0)\r\n",
      "\u001b[33mWARNING: Running pip as the 'root' user can result in broken permissions and conflicting behaviour with the system package manager. It is recommended to use a virtual environment instead: https://pip.pypa.io/warnings/venv\u001b[0m\u001b[33m\r\n",
      "\u001b[0mRequirement already satisfied: tensorflow==2.12.0 in /opt/conda/lib/python3.10/site-packages (2.12.0)\r\n",
      "Requirement already satisfied: absl-py>=1.0.0 in /opt/conda/lib/python3.10/site-packages (from tensorflow==2.12.0) (1.4.0)\r\n",
      "Requirement already satisfied: astunparse>=1.6.0 in /opt/conda/lib/python3.10/site-packages (from tensorflow==2.12.0) (1.6.3)\r\n",
      "Requirement already satisfied: flatbuffers>=2.0 in /opt/conda/lib/python3.10/site-packages (from tensorflow==2.12.0) (23.3.3)\r\n",
      "Requirement already satisfied: gast<=0.4.0,>=0.2.1 in /opt/conda/lib/python3.10/site-packages (from tensorflow==2.12.0) (0.4.0)\r\n",
      "Requirement already satisfied: google-pasta>=0.1.1 in /opt/conda/lib/python3.10/site-packages (from tensorflow==2.12.0) (0.2.0)\r\n",
      "Requirement already satisfied: grpcio<2.0,>=1.24.3 in /opt/conda/lib/python3.10/site-packages (from tensorflow==2.12.0) (1.51.3)\r\n",
      "Requirement already satisfied: h5py>=2.9.0 in /opt/conda/lib/python3.10/site-packages (from tensorflow==2.12.0) (3.8.0)\r\n",
      "Requirement already satisfied: jax>=0.3.15 in /opt/conda/lib/python3.10/site-packages (from tensorflow==2.12.0) (0.4.10)\r\n",
      "Requirement already satisfied: keras<2.13,>=2.12.0 in /opt/conda/lib/python3.10/site-packages (from tensorflow==2.12.0) (2.12.0)\r\n",
      "Requirement already satisfied: libclang>=13.0.0 in /opt/conda/lib/python3.10/site-packages (from tensorflow==2.12.0) (16.0.0)\r\n",
      "Collecting numpy<1.24,>=1.22 (from tensorflow==2.12.0)\r\n",
      "  Downloading numpy-1.23.5-cp310-cp310-manylinux_2_17_x86_64.manylinux2014_x86_64.whl (17.1 MB)\r\n",
      "\u001b[2K     \u001b[90m━━━━━━━━━━━━━━━━━━━━━━━━━━━━━━━━━━━━━━━━\u001b[0m \u001b[32m17.1/17.1 MB\u001b[0m \u001b[31m24.3 MB/s\u001b[0m eta \u001b[36m0:00:00\u001b[0m\r\n",
      "\u001b[?25hRequirement already satisfied: opt-einsum>=2.3.2 in /opt/conda/lib/python3.10/site-packages (from tensorflow==2.12.0) (3.3.0)\r\n",
      "Requirement already satisfied: packaging in /opt/conda/lib/python3.10/site-packages (from tensorflow==2.12.0) (21.3)\r\n",
      "Requirement already satisfied: protobuf!=4.21.0,!=4.21.1,!=4.21.2,!=4.21.3,!=4.21.4,!=4.21.5,<5.0.0dev,>=3.20.3 in /opt/conda/lib/python3.10/site-packages (from tensorflow==2.12.0) (3.20.3)\r\n",
      "Requirement already satisfied: setuptools in /opt/conda/lib/python3.10/site-packages (from tensorflow==2.12.0) (59.8.0)\r\n",
      "Requirement already satisfied: six>=1.12.0 in /opt/conda/lib/python3.10/site-packages (from tensorflow==2.12.0) (1.16.0)\r\n",
      "Requirement already satisfied: tensorboard<2.13,>=2.12 in /opt/conda/lib/python3.10/site-packages (from tensorflow==2.12.0) (2.12.3)\r\n",
      "Requirement already satisfied: tensorflow-estimator<2.13,>=2.12.0 in /opt/conda/lib/python3.10/site-packages (from tensorflow==2.12.0) (2.12.0)\r\n",
      "Requirement already satisfied: termcolor>=1.1.0 in /opt/conda/lib/python3.10/site-packages (from tensorflow==2.12.0) (2.3.0)\r\n",
      "Requirement already satisfied: typing-extensions>=3.6.6 in /opt/conda/lib/python3.10/site-packages (from tensorflow==2.12.0) (4.5.0)\r\n",
      "Requirement already satisfied: wrapt<1.15,>=1.11.0 in /opt/conda/lib/python3.10/site-packages (from tensorflow==2.12.0) (1.14.1)\r\n",
      "Requirement already satisfied: tensorflow-io-gcs-filesystem>=0.23.1 in /opt/conda/lib/python3.10/site-packages (from tensorflow==2.12.0) (0.31.0)\r\n",
      "Requirement already satisfied: wheel<1.0,>=0.23.0 in /opt/conda/lib/python3.10/site-packages (from astunparse>=1.6.0->tensorflow==2.12.0) (0.40.0)\r\n",
      "Requirement already satisfied: ml-dtypes>=0.1.0 in /opt/conda/lib/python3.10/site-packages (from jax>=0.3.15->tensorflow==2.12.0) (0.1.0)\r\n",
      "Requirement already satisfied: scipy>=1.7 in /opt/conda/lib/python3.10/site-packages (from jax>=0.3.15->tensorflow==2.12.0) (1.10.1)\r\n",
      "Requirement already satisfied: google-auth<3,>=1.6.3 in /opt/conda/lib/python3.10/site-packages (from tensorboard<2.13,>=2.12->tensorflow==2.12.0) (2.17.3)\r\n",
      "Requirement already satisfied: google-auth-oauthlib<1.1,>=0.5 in /opt/conda/lib/python3.10/site-packages (from tensorboard<2.13,>=2.12->tensorflow==2.12.0) (1.0.0)\r\n",
      "Requirement already satisfied: markdown>=2.6.8 in /opt/conda/lib/python3.10/site-packages (from tensorboard<2.13,>=2.12->tensorflow==2.12.0) (3.4.3)\r\n",
      "Requirement already satisfied: requests<3,>=2.21.0 in /opt/conda/lib/python3.10/site-packages (from tensorboard<2.13,>=2.12->tensorflow==2.12.0) (2.28.2)\r\n",
      "Requirement already satisfied: tensorboard-data-server<0.8.0,>=0.7.0 in /opt/conda/lib/python3.10/site-packages (from tensorboard<2.13,>=2.12->tensorflow==2.12.0) (0.7.0)\r\n",
      "Requirement already satisfied: werkzeug>=1.0.1 in /opt/conda/lib/python3.10/site-packages (from tensorboard<2.13,>=2.12->tensorflow==2.12.0) (2.3.4)\r\n",
      "Requirement already satisfied: pyparsing!=3.0.5,>=2.0.2 in /opt/conda/lib/python3.10/site-packages (from packaging->tensorflow==2.12.0) (3.0.9)\r\n",
      "Requirement already satisfied: cachetools<6.0,>=2.0.0 in /opt/conda/lib/python3.10/site-packages (from google-auth<3,>=1.6.3->tensorboard<2.13,>=2.12->tensorflow==2.12.0) (4.2.4)\r\n",
      "Requirement already satisfied: pyasn1-modules>=0.2.1 in /opt/conda/lib/python3.10/site-packages (from google-auth<3,>=1.6.3->tensorboard<2.13,>=2.12->tensorflow==2.12.0) (0.2.7)\r\n",
      "Requirement already satisfied: rsa<5,>=3.1.4 in /opt/conda/lib/python3.10/site-packages (from google-auth<3,>=1.6.3->tensorboard<2.13,>=2.12->tensorflow==2.12.0) (4.9)\r\n",
      "Requirement already satisfied: requests-oauthlib>=0.7.0 in /opt/conda/lib/python3.10/site-packages (from google-auth-oauthlib<1.1,>=0.5->tensorboard<2.13,>=2.12->tensorflow==2.12.0) (1.3.1)\r\n",
      "Requirement already satisfied: charset-normalizer<4,>=2 in /opt/conda/lib/python3.10/site-packages (from requests<3,>=2.21.0->tensorboard<2.13,>=2.12->tensorflow==2.12.0) (2.1.1)\r\n",
      "Requirement already satisfied: idna<4,>=2.5 in /opt/conda/lib/python3.10/site-packages (from requests<3,>=2.21.0->tensorboard<2.13,>=2.12->tensorflow==2.12.0) (3.4)\r\n",
      "Requirement already satisfied: urllib3<1.27,>=1.21.1 in /opt/conda/lib/python3.10/site-packages (from requests<3,>=2.21.0->tensorboard<2.13,>=2.12->tensorflow==2.12.0) (1.26.15)\r\n",
      "Requirement already satisfied: certifi>=2017.4.17 in /opt/conda/lib/python3.10/site-packages (from requests<3,>=2.21.0->tensorboard<2.13,>=2.12->tensorflow==2.12.0) (2023.5.7)\r\n",
      "Requirement already satisfied: MarkupSafe>=2.1.1 in /opt/conda/lib/python3.10/site-packages (from werkzeug>=1.0.1->tensorboard<2.13,>=2.12->tensorflow==2.12.0) (2.1.2)\r\n",
      "Requirement already satisfied: pyasn1<0.5.0,>=0.4.6 in /opt/conda/lib/python3.10/site-packages (from pyasn1-modules>=0.2.1->google-auth<3,>=1.6.3->tensorboard<2.13,>=2.12->tensorflow==2.12.0) (0.4.8)\r\n",
      "Requirement already satisfied: oauthlib>=3.0.0 in /opt/conda/lib/python3.10/site-packages (from requests-oauthlib>=0.7.0->google-auth-oauthlib<1.1,>=0.5->tensorboard<2.13,>=2.12->tensorflow==2.12.0) (3.2.2)\r\n",
      "Installing collected packages: numpy\r\n",
      "  Attempting uninstall: numpy\r\n",
      "    Found existing installation: numpy 1.21.4\r\n",
      "    Uninstalling numpy-1.21.4:\r\n",
      "      Successfully uninstalled numpy-1.21.4\r\n",
      "\u001b[31mERROR: pip's dependency resolver does not currently take into account all the packages that are installed. This behaviour is the source of the following dependency conflicts.\r\n",
      "apache-beam 2.46.0 requires dill<0.3.2,>=0.3.1.1, but you have dill 0.3.6 which is incompatible.\r\n",
      "featuretools 1.26.0 requires pandas<2.0.0,>=1.5.0, but you have pandas 2.0.1 which is incompatible.\r\n",
      "momepy 0.6.0 requires shapely>=2, but you have shapely 1.8.5.post1 which is incompatible.\r\n",
      "pymc3 3.11.5 requires numpy<1.22.2,>=1.15.0, but you have numpy 1.23.5 which is incompatible.\r\n",
      "pymc3 3.11.5 requires scipy<1.8.0,>=1.7.3, but you have scipy 1.10.1 which is incompatible.\r\n",
      "woodwork 0.23.0 requires pandas<2.0.0,>=1.4.3, but you have pandas 2.0.1 which is incompatible.\r\n",
      "ydata-profiling 4.1.2 requires pandas!=1.4.0,<1.6,>1.1, but you have pandas 2.0.1 which is incompatible.\r\n",
      "ydata-profiling 4.1.2 requires scipy<1.10,>=1.4.1, but you have scipy 1.10.1 which is incompatible.\u001b[0m\u001b[31m\r\n",
      "\u001b[0mSuccessfully installed numpy-1.23.5\r\n",
      "\u001b[33mWARNING: Running pip as the 'root' user can result in broken permissions and conflicting behaviour with the system package manager. It is recommended to use a virtual environment instead: https://pip.pypa.io/warnings/venv\u001b[0m\u001b[33m\r\n",
      "\u001b[0mRequirement already satisfied: optuna in /opt/conda/lib/python3.10/site-packages (3.1.1)\r\n",
      "Requirement already satisfied: alembic>=1.5.0 in /opt/conda/lib/python3.10/site-packages (from optuna) (1.11.1)\r\n",
      "Requirement already satisfied: cmaes>=0.9.1 in /opt/conda/lib/python3.10/site-packages (from optuna) (0.9.1)\r\n",
      "Requirement already satisfied: colorlog in /opt/conda/lib/python3.10/site-packages (from optuna) (6.7.0)\r\n",
      "Requirement already satisfied: numpy in /opt/conda/lib/python3.10/site-packages (from optuna) (1.23.5)\r\n",
      "Requirement already satisfied: packaging>=20.0 in /opt/conda/lib/python3.10/site-packages (from optuna) (21.3)\r\n",
      "Requirement already satisfied: sqlalchemy>=1.3.0 in /opt/conda/lib/python3.10/site-packages (from optuna) (2.0.12)\r\n",
      "Requirement already satisfied: tqdm in /opt/conda/lib/python3.10/site-packages (from optuna) (4.64.1)\r\n",
      "Requirement already satisfied: PyYAML in /opt/conda/lib/python3.10/site-packages (from optuna) (5.4.1)\r\n",
      "Requirement already satisfied: Mako in /opt/conda/lib/python3.10/site-packages (from alembic>=1.5.0->optuna) (1.2.4)\r\n",
      "Requirement already satisfied: typing-extensions>=4 in /opt/conda/lib/python3.10/site-packages (from alembic>=1.5.0->optuna) (4.5.0)\r\n",
      "Requirement already satisfied: pyparsing!=3.0.5,>=2.0.2 in /opt/conda/lib/python3.10/site-packages (from packaging>=20.0->optuna) (3.0.9)\r\n",
      "Requirement already satisfied: greenlet!=0.4.17 in /opt/conda/lib/python3.10/site-packages (from sqlalchemy>=1.3.0->optuna) (2.0.2)\r\n",
      "Requirement already satisfied: MarkupSafe>=0.9.2 in /opt/conda/lib/python3.10/site-packages (from Mako->alembic>=1.5.0->optuna) (2.1.2)\r\n",
      "\u001b[33mWARNING: Running pip as the 'root' user can result in broken permissions and conflicting behaviour with the system package manager. It is recommended to use a virtual environment instead: https://pip.pypa.io/warnings/venv\u001b[0m\u001b[33m\r\n",
      "\u001b[0m"
     ]
    }
   ],
   "source": [
    "!pip3 install -U numpy==1.21.4\n",
    "!pip3 install -U pandas\n",
    "!pip3 install -U scikit-learn\n",
    "!pip3 install -U keras\n",
    "!pip3 install -U tensorflow==2.12.0\n",
    "!pip3 install -U optuna"
   ]
  },
  {
   "cell_type": "code",
   "execution_count": 2,
   "id": "82b78da6",
   "metadata": {
    "execution": {
     "iopub.execute_input": "2023-05-26T09:25:23.834904Z",
     "iopub.status.busy": "2023-05-26T09:25:23.834453Z",
     "iopub.status.idle": "2023-05-26T09:25:35.298141Z",
     "shell.execute_reply": "2023-05-26T09:25:35.297074Z"
    },
    "papermill": {
     "duration": 11.482374,
     "end_time": "2023-05-26T09:25:35.300912",
     "exception": false,
     "start_time": "2023-05-26T09:25:23.818538",
     "status": "completed"
    },
    "tags": []
   },
   "outputs": [
    {
     "name": "stderr",
     "output_type": "stream",
     "text": [
      "/opt/conda/lib/python3.10/site-packages/tensorflow_io/python/ops/__init__.py:98: UserWarning: unable to load libtensorflow_io_plugins.so: unable to open file: libtensorflow_io_plugins.so, from paths: ['/opt/conda/lib/python3.10/site-packages/tensorflow_io/python/ops/libtensorflow_io_plugins.so']\n",
      "caused by: ['/opt/conda/lib/python3.10/site-packages/tensorflow_io/python/ops/libtensorflow_io_plugins.so: undefined symbol: _ZN3tsl6StatusC1EN10tensorflow5error4CodeESt17basic_string_viewIcSt11char_traitsIcEENS_14SourceLocationE']\n",
      "  warnings.warn(f\"unable to load libtensorflow_io_plugins.so: {e}\")\n",
      "/opt/conda/lib/python3.10/site-packages/tensorflow_io/python/ops/__init__.py:104: UserWarning: file system plugins are not loaded: unable to open file: libtensorflow_io.so, from paths: ['/opt/conda/lib/python3.10/site-packages/tensorflow_io/python/ops/libtensorflow_io.so']\n",
      "caused by: ['/opt/conda/lib/python3.10/site-packages/tensorflow_io/python/ops/libtensorflow_io.so: undefined symbol: _ZTVN10tensorflow13GcsFileSystemE']\n",
      "  warnings.warn(f\"file system plugins are not loaded: {e}\")\n"
     ]
    }
   ],
   "source": [
    "#importing all the necessary libraries\n",
    "import os\n",
    "import pandas as pd\n",
    "import numpy as np\n",
    "import cv2 \n",
    "import matplotlib.pyplot as plt\n",
    "from sklearn.model_selection import train_test_split\n",
    "import tensorflow as tf\n",
    "import matplotlib.pyplot as plt\n",
    "import tensorflow as tf \n",
    "from tensorflow import keras \n",
    "from tensorflow.keras.models import Sequential\n",
    "from tensorflow.keras.layers import Dense, Activation, Conv2D, MaxPooling2D, Flatten, Dropout, BatchNormalization\n",
    "from sklearn.metrics import accuracy_score\n",
    "from tensorflow.keras.preprocessing.image import ImageDataGenerator\n",
    "from tensorflow.keras.callbacks import EarlyStopping\n",
    "import optuna\n",
    "from optuna.visualization import plot_contour\n",
    "from optuna.visualization import plot_edf\n",
    "from optuna.visualization import plot_intermediate_values\n",
    "from optuna.visualization import plot_optimization_history\n",
    "from optuna.visualization import plot_parallel_coordinate\n",
    "from optuna.visualization import plot_param_importances\n",
    "from optuna.visualization import plot_slice\n",
    "from optuna.trial import TrialState\n",
    "from optuna.pruners import SuccessiveHalvingPruner\n",
    "from optuna.samplers import TPESampler"
   ]
  },
  {
   "cell_type": "code",
   "execution_count": 3,
   "id": "c3dbd228",
   "metadata": {
    "execution": {
     "iopub.execute_input": "2023-05-26T09:25:35.327973Z",
     "iopub.status.busy": "2023-05-26T09:25:35.327270Z",
     "iopub.status.idle": "2023-05-26T09:25:35.335758Z",
     "shell.execute_reply": "2023-05-26T09:25:35.334694Z"
    },
    "papermill": {
     "duration": 0.024602,
     "end_time": "2023-05-26T09:25:35.338039",
     "exception": false,
     "start_time": "2023-05-26T09:25:35.313437",
     "status": "completed"
    },
    "tags": []
   },
   "outputs": [],
   "source": [
    "#processing and resizing the images\n",
    "\n",
    "labels = ['PNEUMONIA', 'NORMAL']\n",
    "img_size = 100\n",
    "def resizing_data(data_dir):\n",
    "    data = []\n",
    "    for label in labels:\n",
    "        path = os.path.join(data_dir, label)\n",
    "        class_num = labels.index(label)\n",
    "        for img in os.listdir(path):\n",
    "            try:\n",
    "                img_arr = cv2.imread(os.path.join(path, img), cv2.IMREAD_GRAYSCALE)\n",
    "                resized_arr = cv2.resize(img_arr, (img_size, img_size))\n",
    "                data.append([resized_arr, class_num])\n",
    "            except Exception as e:\n",
    "                print(e)\n",
    "    return np.array(data, dtype=object)"
   ]
  },
  {
   "cell_type": "code",
   "execution_count": 4,
   "id": "fcebcdfc",
   "metadata": {
    "execution": {
     "iopub.execute_input": "2023-05-26T09:25:35.365543Z",
     "iopub.status.busy": "2023-05-26T09:25:35.364797Z",
     "iopub.status.idle": "2023-05-26T09:27:15.068030Z",
     "shell.execute_reply": "2023-05-26T09:27:15.066635Z"
    },
    "papermill": {
     "duration": 99.72081,
     "end_time": "2023-05-26T09:27:15.071205",
     "exception": false,
     "start_time": "2023-05-26T09:25:35.350395",
     "status": "completed"
    },
    "tags": []
   },
   "outputs": [],
   "source": [
    "#preparing the paths for the training, testing and validation data \n",
    "\n",
    "train = resizing_data('../input/chest-xray-pneumonia/chest_xray/train')\n",
    "test = resizing_data('../input/chest-xray-pneumonia/chest_xray/test')\n",
    "val = resizing_data('../input/chest-xray-pneumonia/chest_xray/val')"
   ]
  },
  {
   "cell_type": "code",
   "execution_count": 5,
   "id": "656fcbad",
   "metadata": {
    "execution": {
     "iopub.execute_input": "2023-05-26T09:27:15.098123Z",
     "iopub.status.busy": "2023-05-26T09:27:15.097735Z",
     "iopub.status.idle": "2023-05-26T09:27:15.114934Z",
     "shell.execute_reply": "2023-05-26T09:27:15.113701Z"
    },
    "papermill": {
     "duration": 0.033242,
     "end_time": "2023-05-26T09:27:15.117186",
     "exception": false,
     "start_time": "2023-05-26T09:27:15.083944",
     "status": "completed"
    },
    "tags": []
   },
   "outputs": [
    {
     "name": "stdout",
     "output_type": "stream",
     "text": [
      "Pneumonia: 3875\n",
      "Normal: 1341\n",
      "Total: 5216\n"
     ]
    }
   ],
   "source": [
    "#counting the number of normal and pneumonia diagnostics\n",
    "\n",
    "pnenumonia = 0 \n",
    "normal = 0 \n",
    "\n",
    "for i, j in train:\n",
    "    if j == 0:\n",
    "        pnenumonia+=1\n",
    "    else:\n",
    "        normal+=1\n",
    "        \n",
    "print('Pneumonia:', pnenumonia)\n",
    "print('Normal:', normal)\n",
    "print('Total:', pnenumonia+normal)"
   ]
  },
  {
   "cell_type": "code",
   "execution_count": 6,
   "id": "c9c11b3a",
   "metadata": {
    "execution": {
     "iopub.execute_input": "2023-05-26T09:27:15.143074Z",
     "iopub.status.busy": "2023-05-26T09:27:15.142709Z",
     "iopub.status.idle": "2023-05-26T09:27:15.254018Z",
     "shell.execute_reply": "2023-05-26T09:27:15.252698Z"
    },
    "papermill": {
     "duration": 0.128785,
     "end_time": "2023-05-26T09:27:15.258140",
     "exception": false,
     "start_time": "2023-05-26T09:27:15.129355",
     "status": "completed"
    },
    "tags": []
   },
   "outputs": [
    {
     "name": "stdout",
     "output_type": "stream",
     "text": [
      "PNEUMONIA\n"
     ]
    },
    {
     "data": {
      "image/png": "[encoded data removed]",
      "text/plain": [
       "<Figure size 640x480 with 1 Axes>"
      ]
     },
     "metadata": {},
     "output_type": "display_data"
    }
   ],
   "source": [
    "#visualizing the training images\n",
    "\n",
    "plt.imshow(train[1][0], cmap='gray')\n",
    "plt.axis('off')\n",
    "print(labels[train[1][1]])"
   ]
  },
  {
   "cell_type": "code",
   "execution_count": 7,
   "id": "ef7a0927",
   "metadata": {
    "execution": {
     "iopub.execute_input": "2023-05-26T09:27:15.315271Z",
     "iopub.status.busy": "2023-05-26T09:27:15.314564Z",
     "iopub.status.idle": "2023-05-26T09:27:15.396718Z",
     "shell.execute_reply": "2023-05-26T09:27:15.395672Z"
    },
    "papermill": {
     "duration": 0.113616,
     "end_time": "2023-05-26T09:27:15.399075",
     "exception": false,
     "start_time": "2023-05-26T09:27:15.285459",
     "status": "completed"
    },
    "tags": []
   },
   "outputs": [
    {
     "name": "stdout",
     "output_type": "stream",
     "text": [
      "PNEUMONIA\n"
     ]
    },
    {
     "data": {
      "image/png": "[encoded data removed]",
      "text/plain": [
       "<Figure size 640x480 with 1 Axes>"
      ]
     },
     "metadata": {},
     "output_type": "display_data"
    }
   ],
   "source": [
    "#visualizing the testing images\n",
    "\n",
    "plt.imshow(test[1][0], cmap='gray')\n",
    "plt.axis('off')\n",
    "print(labels[test[1][1]])"
   ]
  },
  {
   "cell_type": "code",
   "execution_count": 8,
   "id": "3f795958",
   "metadata": {
    "execution": {
     "iopub.execute_input": "2023-05-26T09:27:15.428146Z",
     "iopub.status.busy": "2023-05-26T09:27:15.427405Z",
     "iopub.status.idle": "2023-05-26T09:27:15.500653Z",
     "shell.execute_reply": "2023-05-26T09:27:15.499574Z"
    },
    "papermill": {
     "duration": 0.090468,
     "end_time": "2023-05-26T09:27:15.503029",
     "exception": false,
     "start_time": "2023-05-26T09:27:15.412561",
     "status": "completed"
    },
    "tags": []
   },
   "outputs": [
    {
     "name": "stdout",
     "output_type": "stream",
     "text": [
      "PNEUMONIA\n"
     ]
    },
    {
     "data": {
      "image/png": "[encoded data removed]",
      "text/plain": [
       "<Figure size 640x480 with 1 Axes>"
      ]
     },
     "metadata": {},
     "output_type": "display_data"
    }
   ],
   "source": [
    "#visualizing the validation images\n",
    "\n",
    "plt.imshow(val[1][0], cmap='gray')\n",
    "plt.axis('off')\n",
    "print(labels[val[1][1]])"
   ]
  },
  {
   "cell_type": "code",
   "execution_count": 9,
   "id": "9c1196e9",
   "metadata": {
    "execution": {
     "iopub.execute_input": "2023-05-26T09:27:15.533862Z",
     "iopub.status.busy": "2023-05-26T09:27:15.533073Z",
     "iopub.status.idle": "2023-05-26T09:27:15.625026Z",
     "shell.execute_reply": "2023-05-26T09:27:15.624028Z"
    },
    "papermill": {
     "duration": 0.110424,
     "end_time": "2023-05-26T09:27:15.627781",
     "exception": false,
     "start_time": "2023-05-26T09:27:15.517357",
     "status": "completed"
    },
    "tags": []
   },
   "outputs": [],
   "source": [
    "X = []\n",
    "y = []\n",
    "\n",
    "for feature, label in train:\n",
    "    X.append(feature)\n",
    "    y.append(label)\n",
    "\n",
    "for feature, label in test:\n",
    "    X.append(feature)\n",
    "    y.append(label)\n",
    "    \n",
    "for feature, label in val:\n",
    "    X.append(feature)\n",
    "    y.append(label)\n",
    "\n",
    "\n",
    "# resize data for deep learning \n",
    "X = np.array(X).reshape(-1, img_size, img_size, 1)\n",
    "y = np.array(y)\n",
    "\n",
    "#incoprating the validation data into the training data because it does not contain enough examples\n",
    "X_train, X_test, y_train, y_test = train_test_split(X, y, test_size=0.2, random_state=32)\n",
    "X_train, X_val, y_train, y_val = train_test_split(X_train, y_train, test_size=0.20, random_state=32)"
   ]
  },
  {
   "cell_type": "code",
   "execution_count": 10,
   "id": "bdbebdb4",
   "metadata": {
    "execution": {
     "iopub.execute_input": "2023-05-26T09:27:15.658031Z",
     "iopub.status.busy": "2023-05-26T09:27:15.657612Z",
     "iopub.status.idle": "2023-05-26T09:27:15.784941Z",
     "shell.execute_reply": "2023-05-26T09:27:15.783892Z"
    },
    "papermill": {
     "duration": 0.145672,
     "end_time": "2023-05-26T09:27:15.787740",
     "exception": false,
     "start_time": "2023-05-26T09:27:15.642068",
     "status": "completed"
    },
    "tags": []
   },
   "outputs": [],
   "source": [
    "# good for balancing out disproportions in the dataset \n",
    "datagen = ImageDataGenerator(\n",
    "        featurewise_center=False, \n",
    "        samplewise_center=False,  \n",
    "        featurewise_std_normalization=False,  \n",
    "        samplewise_std_normalization=False,  \n",
    "        zca_whitening=False,  \n",
    "        rotation_range=90, \n",
    "        zoom_range = 0.1, \n",
    "        width_shift_range=0.1,  \n",
    "        height_shift_range=0.1,  \n",
    "        horizontal_flip=True,  \n",
    "        vertical_flip=True)  \n",
    "\n",
    "datagen.fit(X_train)"
   ]
  },
  {
   "cell_type": "code",
   "execution_count": 11,
   "id": "3f8f2db1",
   "metadata": {
    "execution": {
     "iopub.execute_input": "2023-05-26T09:27:15.818356Z",
     "iopub.status.busy": "2023-05-26T09:27:15.817467Z",
     "iopub.status.idle": "2023-05-26T14:34:21.474926Z",
     "shell.execute_reply": "2023-05-26T14:34:21.472849Z"
    },
    "papermill": {
     "duration": 18425.677809,
     "end_time": "2023-05-26T14:34:21.479556",
     "exception": false,
     "start_time": "2023-05-26T09:27:15.801747",
     "status": "completed"
    },
    "tags": []
   },
   "outputs": [
    {
     "name": "stderr",
     "output_type": "stream",
     "text": [
      "\u001b[32m[I 2023-05-26 09:27:15,835]\u001b[0m A new study created in memory with name: no-name-b3c5e076-e53d-4014-a75e-d94ae1ac1ec3\u001b[0m\n"
     ]
    },
    {
     "name": "stdout",
     "output_type": "stream",
     "text": [
      "Epoch 1/15\n",
      "16/16 [==============================] - 265s 16s/step - loss: 1.4604 - accuracy: 0.2698 - val_loss: 1.4813 - val_accuracy: 0.2593\n",
      "Epoch 2/15\n",
      "16/16 [==============================] - 261s 16s/step - loss: 1.4604 - accuracy: 0.2698 - val_loss: 1.4813 - val_accuracy: 0.2593\n",
      "Epoch 3/15\n",
      "16/16 [==============================] - 262s 16s/step - loss: 1.4604 - accuracy: 0.2698 - val_loss: 1.4813 - val_accuracy: 0.2593\n",
      "Epoch 4/15\n",
      "16/16 [==============================] - 262s 16s/step - loss: 1.4604 - accuracy: 0.2698 - val_loss: 1.4813 - val_accuracy: 0.2593\n",
      "37/37 [==============================] - 22s 593ms/step\n"
     ]
    },
    {
     "name": "stderr",
     "output_type": "stream",
     "text": [
      "\u001b[32m[I 2023-05-26 09:46:28,441]\u001b[0m Trial 0 finished with value: 0.28071672354948807 and parameters: {'activation_1': 'linear', 'activation_2': 'tanh', 'activation_3': 'tanh', 'dropout': 0.14451497957622927, 'activation_4': 'softmax', 'activation_5': 'softmax', 'optimizer': 'ftrl', 'loss': 'hinge', 'epochs': 15, 'batch_size': 240}. Best is trial 0 with value: 0.28071672354948807.\u001b[0m\n"
     ]
    },
    {
     "name": "stdout",
     "output_type": "stream",
     "text": [
      "Epoch 1/30\n",
      "24/24 [==============================] - 306s 13s/step - loss: 1.0167 - accuracy: 0.7214 - val_loss: 1.0010 - val_accuracy: 0.7407\n",
      "Epoch 2/30\n",
      "24/24 [==============================] - 331s 14s/step - loss: 1.0021 - accuracy: 0.7302 - val_loss: 1.0005 - val_accuracy: 0.7407\n",
      "Epoch 3/30\n",
      "24/24 [==============================] - 311s 13s/step - loss: 1.0013 - accuracy: 0.7302 - val_loss: 1.0002 - val_accuracy: 0.7407\n",
      "Epoch 4/30\n",
      "24/24 [==============================] - 337s 14s/step - loss: 1.0010 - accuracy: 0.7302 - val_loss: 1.0001 - val_accuracy: 0.7407\n",
      "Epoch 5/30\n",
      "24/24 [==============================] - 311s 13s/step - loss: 1.0008 - accuracy: 0.7302 - val_loss: 1.0001 - val_accuracy: 0.7407\n",
      "Epoch 6/30\n",
      "24/24 [==============================] - 333s 14s/step - loss: 1.0006 - accuracy: 0.7302 - val_loss: 1.0001 - val_accuracy: 0.7407\n",
      "Epoch 7/30\n",
      "24/24 [==============================] - 306s 13s/step - loss: 1.0006 - accuracy: 0.7302 - val_loss: 1.0000 - val_accuracy: 0.7407\n",
      "Epoch 8/30\n",
      "24/24 [==============================] - 341s 14s/step - loss: 1.0004 - accuracy: 0.7302 - val_loss: 1.0000 - val_accuracy: 0.7407\n",
      "Epoch 9/30\n",
      "24/24 [==============================] - 309s 13s/step - loss: 1.0005 - accuracy: 0.7302 - val_loss: 1.0000 - val_accuracy: 0.7407\n",
      "Epoch 10/30\n",
      "24/24 [==============================] - 339s 14s/step - loss: 1.0004 - accuracy: 0.7302 - val_loss: 1.0000 - val_accuracy: 0.7407\n",
      "Epoch 11/30\n",
      "24/24 [==============================] - 314s 13s/step - loss: 1.0003 - accuracy: 0.7302 - val_loss: 1.0000 - val_accuracy: 0.7407\n",
      "Epoch 12/30\n",
      "24/24 [==============================] - 341s 13s/step - loss: 1.0003 - accuracy: 0.7302 - val_loss: 1.0000 - val_accuracy: 0.7407\n",
      "Epoch 13/30\n",
      "24/24 [==============================] - 321s 13s/step - loss: 1.0004 - accuracy: 0.7302 - val_loss: 1.0000 - val_accuracy: 0.7407\n",
      "Epoch 14/30\n",
      "24/24 [==============================] - 338s 13s/step - loss: 1.0004 - accuracy: 0.7302 - val_loss: 1.0000 - val_accuracy: 0.7407\n",
      "Epoch 15/30\n",
      "24/24 [==============================] - 350s 15s/step - loss: 1.0002 - accuracy: 0.7302 - val_loss: 1.0000 - val_accuracy: 0.7407\n",
      "Epoch 16/30\n",
      "24/24 [==============================] - 313s 13s/step - loss: 1.0003 - accuracy: 0.7302 - val_loss: 1.0000 - val_accuracy: 0.7407\n",
      "Epoch 17/30\n",
      "24/24 [==============================] - 342s 14s/step - loss: 1.0002 - accuracy: 0.7302 - val_loss: 1.0000 - val_accuracy: 0.7407\n",
      "Epoch 18/30\n",
      "24/24 [==============================] - 306s 13s/step - loss: 1.0001 - accuracy: 0.7302 - val_loss: 1.0000 - val_accuracy: 0.7407\n",
      "Epoch 19/30\n",
      "24/24 [==============================] - 336s 14s/step - loss: 1.0003 - accuracy: 0.7302 - val_loss: 1.0000 - val_accuracy: 0.7407\n",
      "Epoch 20/30\n",
      "24/24 [==============================] - 310s 13s/step - loss: 1.0002 - accuracy: 0.7302 - val_loss: 1.0000 - val_accuracy: 0.7407\n",
      "Epoch 21/30\n",
      "24/24 [==============================] - 341s 14s/step - loss: 1.0002 - accuracy: 0.7302 - val_loss: 1.0000 - val_accuracy: 0.7407\n",
      "Epoch 22/30\n",
      "24/24 [==============================] - 314s 13s/step - loss: 1.0002 - accuracy: 0.7302 - val_loss: 1.0000 - val_accuracy: 0.7407\n",
      "Epoch 23/30\n",
      "24/24 [==============================] - 340s 14s/step - loss: 1.0002 - accuracy: 0.7302 - val_loss: 1.0000 - val_accuracy: 0.7407\n",
      "Epoch 24/30\n",
      "24/24 [==============================] - 318s 13s/step - loss: 1.0001 - accuracy: 0.7302 - val_loss: 1.0000 - val_accuracy: 0.7407\n",
      "Epoch 25/30\n",
      "24/24 [==============================] - 344s 14s/step - loss: 1.0002 - accuracy: 0.7302 - val_loss: 1.0000 - val_accuracy: 0.7407\n",
      "Epoch 26/30\n",
      "24/24 [==============================] - 310s 13s/step - loss: 1.0002 - accuracy: 0.7302 - val_loss: 1.0000 - val_accuracy: 0.7407\n",
      "Epoch 27/30\n",
      "24/24 [==============================] - 342s 14s/step - loss: 1.0001 - accuracy: 0.7302 - val_loss: 1.0000 - val_accuracy: 0.7407\n",
      "Epoch 28/30\n",
      "24/24 [==============================] - 313s 13s/step - loss: 1.0001 - accuracy: 0.7302 - val_loss: 1.0000 - val_accuracy: 0.7407\n",
      "Epoch 29/30\n",
      "24/24 [==============================] - 342s 14s/step - loss: 1.0001 - accuracy: 0.7302 - val_loss: 1.0000 - val_accuracy: 0.7407\n",
      "Epoch 30/30\n",
      "24/24 [==============================] - 310s 13s/step - loss: 1.0001 - accuracy: 0.7302 - val_loss: 1.0000 - val_accuracy: 0.7407\n",
      "37/37 [==============================] - 25s 674ms/step\n"
     ]
    },
    {
     "name": "stderr",
     "output_type": "stream",
     "text": [
      "\u001b[32m[I 2023-05-26 12:37:36,653]\u001b[0m Trial 1 finished with value: 0.7192832764505119 and parameters: {'activation_1': 'elu', 'activation_2': 'elu', 'activation_3': 'tanh', 'dropout': 0.40621977282200816, 'activation_4': 'relu', 'activation_5': 'sigmoid', 'optimizer': 'sgd', 'loss': 'hinge', 'epochs': 30, 'batch_size': 160}. Best is trial 1 with value: 0.7192832764505119.\u001b[0m\n"
     ]
    },
    {
     "name": "stdout",
     "output_type": "stream",
     "text": [
      "Epoch 1/20\n",
      "15/15 [==============================] - 351s 23s/step - loss: 0.5814 - accuracy: 0.7195 - val_loss: 0.5495 - val_accuracy: 0.7407\n",
      "Epoch 2/20\n",
      "15/15 [==============================] - 332s 22s/step - loss: 0.5397 - accuracy: 0.7302 - val_loss: 0.5305 - val_accuracy: 0.7407\n",
      "Epoch 3/20\n",
      "15/15 [==============================] - 316s 21s/step - loss: 0.5397 - accuracy: 0.7302 - val_loss: 0.5273 - val_accuracy: 0.7407\n",
      "Epoch 4/20\n",
      "15/15 [==============================] - 346s 23s/step - loss: 0.5397 - accuracy: 0.7302 - val_loss: 0.5264 - val_accuracy: 0.7407\n",
      "Epoch 5/20\n",
      "15/15 [==============================] - 311s 21s/step - loss: 0.5397 - accuracy: 0.7302 - val_loss: 0.5256 - val_accuracy: 0.7407\n",
      "Epoch 6/20\n",
      "15/15 [==============================] - 343s 23s/step - loss: 0.5397 - accuracy: 0.7302 - val_loss: 0.5246 - val_accuracy: 0.7407\n",
      "Epoch 7/20\n",
      "15/15 [==============================] - 311s 21s/step - loss: 0.5397 - accuracy: 0.7302 - val_loss: 0.5235 - val_accuracy: 0.7407\n",
      "Epoch 8/20\n",
      "15/15 [==============================] - 343s 23s/step - loss: 0.5397 - accuracy: 0.7302 - val_loss: 0.5225 - val_accuracy: 0.7407\n",
      "Epoch 9/20\n",
      "15/15 [==============================] - 335s 22s/step - loss: 0.5397 - accuracy: 0.7302 - val_loss: 0.5216 - val_accuracy: 0.7407\n",
      "Epoch 10/20\n",
      "15/15 [==============================] - 343s 23s/step - loss: 0.5397 - accuracy: 0.7302 - val_loss: 0.5208 - val_accuracy: 0.7407\n",
      "Epoch 11/20\n",
      "15/15 [==============================] - 318s 21s/step - loss: 0.5397 - accuracy: 0.7302 - val_loss: 0.5202 - val_accuracy: 0.7407\n",
      "Epoch 12/20\n",
      "15/15 [==============================] - 342s 23s/step - loss: 0.5397 - accuracy: 0.7302 - val_loss: 0.5198 - val_accuracy: 0.7407\n",
      "Epoch 13/20\n",
      "15/15 [==============================] - 310s 21s/step - loss: 0.5397 - accuracy: 0.7302 - val_loss: 0.5195 - val_accuracy: 0.7407\n",
      "Epoch 14/20\n",
      "15/15 [==============================] - 341s 21s/step - loss: 0.5397 - accuracy: 0.7302 - val_loss: 0.5193 - val_accuracy: 0.7407\n",
      "Epoch 15/20\n",
      "15/15 [==============================] - 347s 23s/step - loss: 0.5397 - accuracy: 0.7302 - val_loss: 0.5191 - val_accuracy: 0.7407\n",
      "Epoch 16/20\n",
      "15/15 [==============================] - 315s 21s/step - loss: 0.5397 - accuracy: 0.7302 - val_loss: 0.5190 - val_accuracy: 0.7407\n",
      "Epoch 17/20\n",
      "15/15 [==============================] - 349s 23s/step - loss: 0.5397 - accuracy: 0.7302 - val_loss: 0.5189 - val_accuracy: 0.7407\n",
      "Epoch 18/20\n",
      "15/15 [==============================] - 323s 22s/step - loss: 0.5397 - accuracy: 0.7302 - val_loss: 0.5189 - val_accuracy: 0.7407\n",
      "Epoch 19/20\n",
      "15/15 [==============================] - 339s 23s/step - loss: 0.5397 - accuracy: 0.7302 - val_loss: 0.5188 - val_accuracy: 0.7407\n",
      "Epoch 20/20\n",
      "15/15 [==============================] - 311s 21s/step - loss: 0.5397 - accuracy: 0.7302 - val_loss: 0.5188 - val_accuracy: 0.7407\n",
      "37/37 [==============================] - 25s 676ms/step\n"
     ]
    },
    {
     "name": "stderr",
     "output_type": "stream",
     "text": [
      "\u001b[32m[I 2023-05-26 14:34:21,460]\u001b[0m Trial 2 finished with value: 0.7192832764505119 and parameters: {'activation_1': 'elu', 'activation_2': 'elu', 'activation_3': 'softmax', 'dropout': 0.22561589759611556, 'activation_4': 'tanh', 'activation_5': 'elu', 'optimizer': 'nadam', 'loss': 'hinge', 'epochs': 20, 'batch_size': 256}. Best is trial 1 with value: 0.7192832764505119.\u001b[0m\n"
     ]
    },
    {
     "name": "stdout",
     "output_type": "stream",
     "text": [
      "Accuracy: 0.7192832764505119\n",
      "Best hyperparameters: {'activation_1': 'elu', 'activation_2': 'elu', 'activation_3': 'tanh', 'dropout': 0.40621977282200816, 'activation_4': 'relu', 'activation_5': 'sigmoid', 'optimizer': 'sgd', 'loss': 'hinge', 'epochs': 30, 'batch_size': 160}\n"
     ]
    }
   ],
   "source": [
    "def objective(trial):\n",
    "    # Define the CNN model\n",
    "    model = Sequential()\n",
    "\n",
    "    model.add(Conv2D(256, (3, 3), input_shape=X_train.shape[1:], padding='same'))\n",
    "    activation_1 = trial.suggest_categorical('activation_1', [\"sigmoid\", \"relu\", \"linear\", \"tanh\", \"softmax\", \"elu\", \"selu\"])\n",
    "    model.add(Activation(activation_1))\n",
    "    model.add(MaxPooling2D(pool_size=(2, 2), padding='same'))\n",
    "    model.add(BatchNormalization(axis=1))\n",
    "\n",
    "    model.add(Conv2D(64, (3, 3), padding='same'))\n",
    "    activation_2 = trial.suggest_categorical('activation_2', [\"sigmoid\", \"relu\", \"linear\", \"tanh\", \"softmax\", \"elu\", \"selu\"])\n",
    "    model.add(Activation(activation_2))\n",
    "    model.add(MaxPooling2D(pool_size=(2, 2), padding='same'))\n",
    "    model.add(BatchNormalization(axis=1))\n",
    "\n",
    "    model.add(Conv2D(16, (3, 3), padding='same'))\n",
    "    activation_3 = trial.suggest_categorical('activation_3', [\"sigmoid\", \"relu\", \"linear\", \"tanh\", \"softmax\", \"elu\", \"selu\"])\n",
    "    model.add(Activation(activation_3))\n",
    "    model.add(MaxPooling2D(pool_size=(2, 2), padding='same'))\n",
    "    model.add(BatchNormalization(axis=1))\n",
    "\n",
    "    model.add(Flatten())  # this converts our 3D feature maps to 1D feature vectors\n",
    "\n",
    "    model.add(Dropout(trial.suggest_float('dropout', 0.1, 0.5)))\n",
    "    model.add(Dense(64))\n",
    "    activation_4 = trial.suggest_categorical('activation_4', [\"sigmoid\", \"relu\", \"linear\", \"tanh\", \"softmax\", \"elu\", \"selu\"])\n",
    "    model.add(Activation(activation_4))\n",
    "\n",
    "    model.add(Dropout(trial.suggest_float('dropout', 0.1, 0.5)))\n",
    "    model.add(Dense(1))\n",
    "    activation_5 = trial.suggest_categorical('activation_5', [\"sigmoid\", \"relu\", \"linear\", \"tanh\", \"softmax\", \"elu\", \"selu\"])\n",
    "    model.add(Activation(activation_5))\n",
    "\n",
    "    # Compile the model with the suggested optimizer and loss function\n",
    "    optimizer = trial.suggest_categorical('optimizer', [\"sgd\",\"rmsprop\", \"adam\", \"adadelta\", \"adagrad\", \"adamax\", \"nadam\", \"ftrl\"])\n",
    "    loss = trial.suggest_categorical('loss', [\"binary_crossentropy\",\"mean_squared_error\", \"mean_absolute_error\", \"hinge\"])\n",
    "    epochs = trial.suggest_int(\"epochs\", 10, 30, step=5)\n",
    "    batch_size = trial.suggest_int(\"batch_size\", 16, 256, step=16)\n",
    "    early_stop = EarlyStopping(patience=3, monitor='val_loss', restore_best_weights=True)\n",
    "    \n",
    "    model.compile(optimizer=optimizer, loss=loss, metrics=['accuracy'])\n",
    "\n",
    "    # Train the model with the dataset\n",
    "    model.fit(datagen.flow(X_train, y_train, batch_size=batch_size), callbacks=[early_stop], validation_data=(X_val, y_val), epochs=epochs)\n",
    "\n",
    "    # Return the validation accuracy as the objective value for Optuna to maximize\n",
    "    classes_x = (model.predict(X_test) > 0.5).astype(\"int32\")\n",
    "    score = accuracy_score(y_test,classes_x)  \n",
    "\n",
    "    if trial.should_prune():\n",
    "      raise optuna.exceptions.TrialPruned() \n",
    "\n",
    "    return score\n",
    "\n",
    "# Run the Optuna optimization\n",
    "study = optuna.create_study(sampler = TPESampler(),pruner = SuccessiveHalvingPruner(),direction='maximize')\n",
    "study.optimize(objective, n_trials=3)\n",
    "\n",
    "# Print the best hyperparameters and objective value\n",
    "trial = study.best_trial\n",
    "\n",
    "print('Accuracy: {}'.format(trial.value))\n",
    "print(\"Best hyperparameters: {}\".format(trial.params)) "
   ]
  },
  {
   "cell_type": "code",
   "execution_count": 12,
   "id": "0ffa814d",
   "metadata": {
    "execution": {
     "iopub.execute_input": "2023-05-26T14:34:21.752983Z",
     "iopub.status.busy": "2023-05-26T14:34:21.752467Z",
     "iopub.status.idle": "2023-05-26T14:34:22.020358Z",
     "shell.execute_reply": "2023-05-26T14:34:22.016439Z"
    },
    "papermill": {
     "duration": 0.423113,
     "end_time": "2023-05-26T14:34:22.036778",
     "exception": false,
     "start_time": "2023-05-26T14:34:21.613665",
     "status": "completed"
    },
    "tags": []
   },
   "outputs": [
    {
     "name": "stdout",
     "output_type": "stream",
     "text": [
      "Model: \"sequential_3\"\n",
      "_________________________________________________________________\n",
      " Layer (type)                Output Shape              Param #   \n",
      "=================================================================\n",
      " conv2d_9 (Conv2D)           (None, 100, 100, 256)     2560      \n",
      "                                                                 \n",
      " activation_15 (Activation)  (None, 100, 100, 256)     0         \n",
      "                                                                 \n",
      " max_pooling2d_9 (MaxPooling  (None, 50, 50, 256)      0         \n",
      " 2D)                                                             \n",
      "                                                                 \n",
      " batch_normalization_9 (Batc  (None, 50, 50, 256)      200       \n",
      " hNormalization)                                                 \n",
      "                                                                 \n",
      " conv2d_10 (Conv2D)          (None, 50, 50, 64)        147520    \n",
      "                                                                 \n",
      " activation_16 (Activation)  (None, 50, 50, 64)        0         \n",
      "                                                                 \n",
      " max_pooling2d_10 (MaxPoolin  (None, 25, 25, 64)       0         \n",
      " g2D)                                                            \n",
      "                                                                 \n",
      " batch_normalization_10 (Bat  (None, 25, 25, 64)       100       \n",
      " chNormalization)                                                \n",
      "                                                                 \n",
      " conv2d_11 (Conv2D)          (None, 25, 25, 16)        9232      \n",
      "                                                                 \n",
      " activation_17 (Activation)  (None, 25, 25, 16)        0         \n",
      "                                                                 \n",
      " max_pooling2d_11 (MaxPoolin  (None, 13, 13, 16)       0         \n",
      " g2D)                                                            \n",
      "                                                                 \n",
      " batch_normalization_11 (Bat  (None, 13, 13, 16)       52        \n",
      " chNormalization)                                                \n",
      "                                                                 \n",
      " flatten_3 (Flatten)         (None, 2704)              0         \n",
      "                                                                 \n",
      " dropout_6 (Dropout)         (None, 2704)              0         \n",
      "                                                                 \n",
      " dense_6 (Dense)             (None, 64)                173120    \n",
      "                                                                 \n",
      " activation_18 (Activation)  (None, 64)                0         \n",
      "                                                                 \n",
      " dropout_7 (Dropout)         (None, 64)                0         \n",
      "                                                                 \n",
      " dense_7 (Dense)             (None, 1)                 65        \n",
      "                                                                 \n",
      " activation_19 (Activation)  (None, 1)                 0         \n",
      "                                                                 \n",
      "=================================================================\n",
      "Total params: 332,849\n",
      "Trainable params: 332,673\n",
      "Non-trainable params: 176\n",
      "_________________________________________________________________\n"
     ]
    }
   ],
   "source": [
    "model = Sequential()\n",
    "\n",
    "model.add(Conv2D(256, (3, 3), input_shape=X_train.shape[1:], padding='same'))\n",
    "model.add(Activation('tanh'))\n",
    "model.add(MaxPooling2D(pool_size=(2, 2), padding='same'))\n",
    "model.add(BatchNormalization(axis=1))\n",
    "\n",
    "model.add(Conv2D(64, (3, 3), padding='same'))\n",
    "model.add(Activation('selu'))\n",
    "model.add(MaxPooling2D(pool_size=(2, 2), padding='same'))\n",
    "model.add(BatchNormalization(axis=1))\n",
    "\n",
    "model.add(Conv2D(16, (3, 3), padding='same'))\n",
    "model.add(Activation('softmax'))\n",
    "model.add(MaxPooling2D(pool_size=(2, 2), padding='same'))\n",
    "model.add(BatchNormalization(axis=1))\n",
    "\n",
    "model.add(Flatten())  # this converts our 3D feature maps to 1D feature vectors\n",
    "\n",
    "model.add(Dropout(0.3175418729059378))\n",
    "model.add(Dense(64))\n",
    "model.add(Activation('relu'))\n",
    "\n",
    "model.add(Dropout(0.3175418729059378))\n",
    "model.add(Dense(1))\n",
    "model.add(Activation('tanh'))\n",
    "\n",
    "model.compile(loss='binary_crossentropy',optimizer='sgd',metrics=['accuracy'])\n",
    "\n",
    "model.summary()"
   ]
  },
  {
   "cell_type": "code",
   "execution_count": 13,
   "id": "7ba15d60",
   "metadata": {
    "execution": {
     "iopub.execute_input": "2023-05-26T14:34:22.320234Z",
     "iopub.status.busy": "2023-05-26T14:34:22.319863Z",
     "iopub.status.idle": "2023-05-26T15:12:59.047062Z",
     "shell.execute_reply": "2023-05-26T15:12:59.043358Z"
    },
    "papermill": {
     "duration": 2317.303462,
     "end_time": "2023-05-26T15:12:59.480218",
     "exception": false,
     "start_time": "2023-05-26T14:34:22.176756",
     "status": "completed"
    },
    "tags": []
   },
   "outputs": [
    {
     "name": "stdout",
     "output_type": "stream",
     "text": [
      "Epoch 1/25\n",
      "20/20 [==============================] - 322s 16s/step - loss: 4.1295 - accuracy: 0.7254 - val_loss: 4.0003 - val_accuracy: 0.7407\n",
      "Epoch 2/25\n",
      "20/20 [==============================] - 291s 15s/step - loss: 4.1619 - accuracy: 0.7302 - val_loss: 4.0003 - val_accuracy: 0.7407\n",
      "Epoch 3/25\n",
      "20/20 [==============================] - 324s 16s/step - loss: 7.1354 - accuracy: 0.5306 - val_loss: 11.2945 - val_accuracy: 0.2593\n",
      "Epoch 4/25\n",
      "20/20 [==============================] - 295s 15s/step - loss: 10.6374 - accuracy: 0.2880 - val_loss: 1.1332 - val_accuracy: 0.2593\n",
      "Epoch 5/25\n",
      "20/20 [==============================] - 323s 16s/step - loss: 4.3538 - accuracy: 0.7088 - val_loss: 4.0003 - val_accuracy: 0.7407\n",
      "Epoch 6/25\n",
      "20/20 [==============================] - 296s 15s/step - loss: 4.1657 - accuracy: 0.7294 - val_loss: 4.0003 - val_accuracy: 0.7407\n",
      "Epoch 7/25\n",
      "20/20 [==============================] - 322s 16s/step - loss: 4.1558 - accuracy: 0.7299 - val_loss: 4.0003 - val_accuracy: 0.7407\n"
     ]
    },
    {
     "data": {
      "text/plain": [
       "<keras.callbacks.History at 0x7f648feaf910>"
      ]
     },
     "execution_count": 13,
     "metadata": {},
     "output_type": "execute_result"
    }
   ],
   "source": [
    "early_stop = EarlyStopping(patience=3, monitor='val_loss', restore_best_weights=True)\n",
    "model.fit(datagen.flow(X_train, y_train, batch_size=192), callbacks=[early_stop], validation_data=(X_val, y_val), epochs=25)"
   ]
  },
  {
   "cell_type": "code",
   "execution_count": 14,
   "id": "658e9e1a",
   "metadata": {
    "execution": {
     "iopub.execute_input": "2023-05-26T15:12:59.784579Z",
     "iopub.status.busy": "2023-05-26T15:12:59.784091Z",
     "iopub.status.idle": "2023-05-26T15:13:40.844926Z",
     "shell.execute_reply": "2023-05-26T15:13:40.843504Z"
    },
    "papermill": {
     "duration": 41.370715,
     "end_time": "2023-05-26T15:13:40.999880",
     "exception": false,
     "start_time": "2023-05-26T15:12:59.629165",
     "status": "completed"
    },
    "tags": []
   },
   "outputs": [
    {
     "name": "stdout",
     "output_type": "stream",
     "text": [
      "37/37 [==============================] - 24s 652ms/step - loss: 1.1084 - accuracy: 0.2807\n"
     ]
    },
    {
     "data": {
      "text/plain": [
       "[1.1083890199661255, 0.2807167172431946]"
      ]
     },
     "execution_count": 14,
     "metadata": {},
     "output_type": "execute_result"
    }
   ],
   "source": [
    "model.evaluate(X_test, y_test)"
   ]
  },
  {
   "cell_type": "code",
   "execution_count": 15,
   "id": "fe554877",
   "metadata": {
    "execution": {
     "iopub.execute_input": "2023-05-26T15:13:41.309455Z",
     "iopub.status.busy": "2023-05-26T15:13:41.308572Z",
     "iopub.status.idle": "2023-05-26T15:14:05.724199Z",
     "shell.execute_reply": "2023-05-26T15:14:05.723025Z"
    },
    "papermill": {
     "duration": 24.573873,
     "end_time": "2023-05-26T15:14:05.726688",
     "exception": false,
     "start_time": "2023-05-26T15:13:41.152815",
     "status": "completed"
    },
    "tags": []
   },
   "outputs": [
    {
     "name": "stdout",
     "output_type": "stream",
     "text": [
      "37/37 [==============================] - 24s 654ms/step\n",
      "Percentage of chances of having pneumonia: 76.13928318023682\n"
     ]
    }
   ],
   "source": [
    "predictions = model.predict(X_test)\n",
    "percentage = abs (predictions.mean() * 100)\n",
    "print('Percentage of chances of having pneumonia:', percentage)"
   ]
  },
  {
   "cell_type": "code",
   "execution_count": 16,
   "id": "6185a016",
   "metadata": {
    "execution": {
     "iopub.execute_input": "2023-05-26T15:14:06.043761Z",
     "iopub.status.busy": "2023-05-26T15:14:06.043004Z",
     "iopub.status.idle": "2023-05-26T15:14:06.125771Z",
     "shell.execute_reply": "2023-05-26T15:14:06.124712Z"
    },
    "papermill": {
     "duration": 0.243682,
     "end_time": "2023-05-26T15:14:06.128826",
     "exception": false,
     "start_time": "2023-05-26T15:14:05.885144",
     "status": "completed"
    },
    "tags": []
   },
   "outputs": [],
   "source": [
    "model.save('pneumonia_model.h5')"
   ]
  }
 ],
 "metadata": {
  "kernelspec": {
   "display_name": "Python 3",
   "language": "python",
   "name": "python3"
  },
  "language_info": {
   "codemirror_mode": {
    "name": "ipython",
    "version": 3
   },
   "file_extension": ".py",
   "mimetype": "text/x-python",
   "name": "python",
   "nbconvert_exporter": "python",
   "pygments_lexer": "ipython3",
   "version": "3.10.10"
  },
  "papermill": {
   "default_parameters": {},
   "duration": 21034.725467,
   "end_time": "2023-05-26T15:14:09.799470",
   "environment_variables": {},
   "exception": null,
   "input_path": "__notebook__.ipynb",
   "output_path": "__notebook__.ipynb",
   "parameters": {},
   "start_time": "2023-05-26T09:23:35.074003",
   "version": "2.4.0"
  }
 },
 "nbformat": 4,
 "nbformat_minor": 5
}
